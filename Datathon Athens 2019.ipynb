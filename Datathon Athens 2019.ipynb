{
 "cells": [
  {
   "cell_type": "markdown",
   "metadata": {},
   "source": [
    "<a href=\"https://github.com/IATAdatathon/Athens19\">GitHub</a>\n",
    "\n",
    "Repository for IATA Datathon in Athens 24th June 2019\n",
    "\n",
    "# INTRODUCTION\n",
    "![INTRODUCTION](https://github.com/IATAdatathon/Athens19/blob/master/Webinar/Slide1.JPG?raw=true)\n",
    "\n",
    "<p style=\"\"><button name=\"button\" onclick=\"https://www.eventbrite.com/e/iata-aviation-datathon-registration-60260500780\">REGISTER</button></p>\n",
    "\n",
    "IATA Aviation Datathon 2019 focuses on addressing industry challenges and priorities, proposing solutions leveraging data science capabilities in areas where data is already available and accessible. All in support of IATA’s renewed global strategic priorities which includes a strong pillar related to data. The objective is to raise awareness and trigger innovative ways airlines and the wider aviation industry can extract value out of data.\n",
    "For more information go to: www.iata.org/datathon \n",
    "\n"
   ]
  },
  {
   "cell_type": "markdown",
   "metadata": {},
   "source": [
    "# ABOUT US\n",
    "![ABOUT US](https://github.com/IATAdatathon/Athens19/blob/master/Webinar/Slide2.JPG?raw=true)\n",
    "\n"
   ]
  },
  {
   "cell_type": "markdown",
   "metadata": {
    "ExecuteTime": {
     "end_time": "2019-05-23T19:51:31.582728Z",
     "start_time": "2019-05-23T19:51:31.532893Z"
    }
   },
   "source": [
    "# AGENDA\n",
    "![AGENDA](https://github.com/IATAdatathon/Athens19/blob/master/Webinar/Slide5.JPG?raw=true)\n",
    "\n"
   ]
  },
  {
   "cell_type": "markdown",
   "metadata": {},
   "source": [
    "# CHALLENGES\n",
    "![INTRODUCTION](https://github.com/IATAdatathon/Athens19/blob/master/Webinar/Slide6.JPG?raw=true)\n"
   ]
  },
  {
   "cell_type": "markdown",
   "metadata": {},
   "source": [
    "![Challenge1](https://github.com/IATAdatathon/Athens19/blob/master/Webinar/Slide7.JPG?raw=true)\n"
   ]
  },
  {
   "cell_type": "markdown",
   "metadata": {},
   "source": [
    "![Challenge2](https://github.com/IATAdatathon/Athens19/blob/master/Webinar/Slide8.JPG?raw=true)\n"
   ]
  },
  {
   "cell_type": "markdown",
   "metadata": {
    "ExecuteTime": {
     "end_time": "2019-05-23T20:06:06.966433Z",
     "start_time": "2019-05-23T20:06:06.926509Z"
    }
   },
   "source": [
    "![Challenge3](https://github.com/IATAdatathon/Athens19/blob/master/Webinar/Slide9.JPG?raw=true)\n"
   ]
  },
  {
   "cell_type": "markdown",
   "metadata": {
    "ExecuteTime": {
     "end_time": "2019-05-23T19:52:48.469259Z",
     "start_time": "2019-05-23T19:52:48.254513Z"
    }
   },
   "source": [
    "# JURY\n",
    "![JURY](https://github.com/IATAdatathon/Athens19/blob/master/Webinar/Slide10.JPG?raw=true)\n",
    "\n"
   ]
  },
  {
   "cell_type": "markdown",
   "metadata": {},
   "source": [
    "# PRIZES\n",
    "![PRIZES](https://github.com/IATAdatathon/Athens19/blob/master/Webinar/Slide11.JPG?raw=true)\n"
   ]
  },
  {
   "cell_type": "markdown",
   "metadata": {},
   "source": [
    "# Q&A\n",
    "![Q&A](https://github.com/IATAdatathon/Athens19/blob/master/Webinar/Slide12.JPG?raw=true)\n",
    "**Q:** Will the set of info together with data be printed (I assume “shared”) on Github?<br> \n",
    ">**A:** Data sets will be available in [GitHub](https://github.com/IATAdatathon/Athens19) with the corresponding specifications<br>\n",
    "\n",
    "**Q:** Is the data being in English?<br>\n",
    ">**A:** Data for made available for the challenge will be in English. The evaluation from the Jury will be based on the work made for English as the core language. Nonetheless, participants are welcome to directly include or provision for other languages on their proposed solutions.<br>\n",
    "\n",
    "**Q:** Are we keeping “test” datasets where we will evaluate the results of the different solutions?<br>\n",
    ">**A:** Datasets are available at least 2 weeks before the event and participants are free to use it at their own discrection to work on the solutions for the challenges.<br>\n",
    "\n",
    "**Q:** Names of some of the sources<br>\n",
    ">**A:** Datasets consists of data collected from different public sources (tracking services, airports sites and METAR services) or accesible to the general public (twitter API). Additionally for challenge 2, data is excracted from IATA GADM databaes through anonimization and removing sensitive data elements, preveting exposing any particular entity.<br>\n",
    "\n",
    "**Q:** When we say “documentation” does that include webpage dashboards and notebooks?<br>\n",
    ">**A:** (response coming soon)<br>\n",
    "\n",
    "**Q:** Do the participants need to bring their own laptops?<br>\n",
    ">**A:** (response coming soon)<br>\n",
    "\n",
    "**Q:** Clarification question: Do the participants need to cover 1 out of 3 challenges – not all of them?<br>\n",
    ">**A:** (response coming soon)<br>\n",
    "\n",
    "**Q:** How and when will the team be constructed?<br>\n",
    ">**A:** (response coming soon)<br>\n",
    "\n",
    "**Q:** Can the participants assume that intellectual property ownership of any algorithms, visualizations etc. stay with the teams that created them?<br>\n",
    ">**A:** (response coming soon)<br>\n",
    "\n",
    "**Q:** Will we send the recording session?<br>\n",
    ">**A:** (response coming soon)<br>\n",
    "\n",
    "**Q:** For the five-minute presentation – who is the audience? Technical data scientist or business people?<br>\n",
    ">**A:** (response coming soon)<br>\n",
    "\n",
    "\n",
    "\n"
   ]
  },
  {
   "cell_type": "markdown",
   "metadata": {},
   "source": [
    "![THANK YOU](https://github.com/IATAdatathon/Athens19/blob/master/Webinar/Slide13.JPG?raw=true)\n"
   ]
  },
  {
   "cell_type": "code",
   "execution_count": null,
   "metadata": {},
   "outputs": [],
   "source": []
  }
 ],
 "metadata": {
  "kernelspec": {
   "display_name": "Python 3",
   "language": "python",
   "name": "python3"
  },
  "language_info": {
   "codemirror_mode": {
    "name": "ipython",
    "version": 3
   },
   "file_extension": ".py",
   "mimetype": "text/x-python",
   "name": "python",
   "nbconvert_exporter": "python",
   "pygments_lexer": "ipython3",
   "version": "3.7.2"
  },
  "toc": {
   "base_numbering": 1,
   "nav_menu": {},
   "number_sections": true,
   "sideBar": true,
   "skip_h1_title": false,
   "title_cell": "Table of Contents",
   "title_sidebar": "Contents",
   "toc_cell": false,
   "toc_position": {},
   "toc_section_display": true,
   "toc_window_display": false
  },
  "varInspector": {
   "cols": {
    "lenName": 16,
    "lenType": 16,
    "lenVar": 40
   },
   "kernels_config": {
    "python": {
     "delete_cmd_postfix": "",
     "delete_cmd_prefix": "del ",
     "library": "var_list.py",
     "varRefreshCmd": "print(var_dic_list())"
    },
    "r": {
     "delete_cmd_postfix": ") ",
     "delete_cmd_prefix": "rm(",
     "library": "var_list.r",
     "varRefreshCmd": "cat(var_dic_list()) "
    }
   },
   "types_to_exclude": [
    "module",
    "function",
    "builtin_function_or_method",
    "instance",
    "_Feature"
   ],
   "window_display": false
  }
 },
 "nbformat": 4,
 "nbformat_minor": 2
}
